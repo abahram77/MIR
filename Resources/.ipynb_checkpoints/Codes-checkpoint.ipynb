{
 "cells": [
  {
   "cell_type": "markdown",
   "metadata": {},
   "source": [
    "# Boolean Retrieval"
   ]
  },
  {
   "cell_type": "markdown",
   "metadata": {},
   "source": [
    "## 1. Intersection"
   ]
  },
  {
   "cell_type": "code",
   "execution_count": 1,
   "metadata": {},
   "outputs": [
    {
     "name": "stdout",
     "output_type": "stream",
     "text": [
      "[2, 31]\n"
     ]
    }
   ],
   "source": [
    "def intersection(A, B):\n",
    "    a, b = len(A), len(B)\n",
    "    i , j = 0, 0\n",
    "    result = []\n",
    "    while i < a and j < b:\n",
    "        if A[i] == B[j]:\n",
    "            result.append(A[i])\n",
    "            i += 1\n",
    "            j += 1\n",
    "        elif A[i] < B[j]:\n",
    "            i += 1\n",
    "        else:\n",
    "            j += 1\n",
    "    return result\n",
    "\n",
    "A = [1, 2, 4, 11, 31, 45, 173, 174]\n",
    "B = [2, 31, 54, 101]\n",
    "\n",
    "print(intersection(A, B))"
   ]
  },
  {
   "cell_type": "markdown",
   "metadata": {},
   "source": [
    "## Exercises"
   ]
  },
  {
   "cell_type": "markdown",
   "metadata": {},
   "source": [
    "### Ex1.1: Draw the inverted index that would be built for the following document collection.\n",
    "---\n",
    "**Doc 1** new home sales top forecasts\n",
    "\n",
    "**Doc 2** home sales rise in july\n",
    "\n",
    "**Doc 3** increase in home sales in july\n",
    "\n",
    "**Doc 4** july new home sales rise"
   ]
  },
  {
   "cell_type": "code",
   "execution_count": 44,
   "metadata": {},
   "outputs": [
    {
     "name": "stdout",
     "output_type": "stream",
     "text": [
      "[('forecasts', 1), ('home', 1), ('home', 2), ('home', 3), ('home', 4), ('in', 2), ('in', 3), ('increase', 3), ('july', 2), ('july', 3), ('july', 4), ('new', 1), ('new', 4), ('rise', 2), ('rise', 4), ('sales', 1), ('sales', 2), ('sales', 3), ('sales', 4), ('top', 1)]\n",
      "\n",
      "forecasts -> [1] -> 1\n",
      "home -> [1, 2, 3, 4] -> 4\n",
      "in -> [2, 3] -> 2\n",
      "increase -> [3] -> 1\n",
      "july -> [2, 3, 4] -> 3\n",
      "new -> [1, 4] -> 2\n",
      "rise -> [2, 4] -> 2\n",
      "sales -> [1, 2, 3, 4] -> 4\n",
      "top -> [1] -> 1\n"
     ]
    }
   ],
   "source": [
    "tokens, inverted_index = [], {}\n",
    "\n",
    "def tokenizer(doc, doc_id):\n",
    "    list_of_tokens = doc.split(' ')\n",
    "    for token in list_of_tokens:\n",
    "        if (token, doc_id) not in tokens:\n",
    "            tokens.append((token, doc_id))\n",
    "\n",
    "doc1 = 'new home sales top forecasts'\n",
    "doc2 = 'home sales rise in july'\n",
    "doc3 = 'increase in home sales in july'\n",
    "doc4 = 'july new home sales rise'\n",
    "\n",
    "tokenizer(doc1, 1)\n",
    "tokenizer(doc2, 2)\n",
    "tokenizer(doc3, 3)\n",
    "tokenizer(doc4, 4)\n",
    "\n",
    "tokens = sorted(tokens)\n",
    "num_of_tokens = len(tokens)\n",
    "\n",
    "\n",
    "for i in range(num_of_tokens):\n",
    "    counter = 1\n",
    "    if tokens[i][0] not in inverted_index.keys():\n",
    "        inverted_index[tokens[i][0]] = [tokens[i][1]]\n",
    "        \n",
    "    for j in range(i + 1, num_of_tokens):\n",
    "        if tokens[i][0] == tokens[j][0]:\n",
    "            if tokens[j][1] not in inverted_index[tokens[i][0]]:\n",
    "                inverted_index[tokens[i][0]].append(tokens[j][1])\n",
    "                counter += 1\n",
    "print(tokens)\n",
    "print()\n",
    "for key in inverted_index.keys():\n",
    "    print(key, '->', inverted_index[key], '->', len(inverted_index[key]))"
   ]
  },
  {
   "cell_type": "markdown",
   "metadata": {},
   "source": [
    "### Exercise 1.2\n",
    "---\n",
    "\n",
    "**Doc 1** breakthrough drug for schizophrenia\n",
    "\n",
    "**Doc 2** new schizophrenia drug\n",
    "\n",
    "**Doc 3** new approach for treatment of schizophrenia\n",
    "\n",
    "**Doc 4** new hopes for schizophrenia patients\n"
   ]
  },
  {
   "cell_type": "code",
   "execution_count": null,
   "metadata": {},
   "outputs": [],
   "source": []
  }
 ],
 "metadata": {
  "kernelspec": {
   "display_name": "Python 3",
   "language": "python",
   "name": "python3"
  },
  "language_info": {
   "codemirror_mode": {
    "name": "ipython",
    "version": 3
   },
   "file_extension": ".py",
   "mimetype": "text/x-python",
   "name": "python",
   "nbconvert_exporter": "python",
   "pygments_lexer": "ipython3",
   "version": "3.6.9"
  }
 },
 "nbformat": 4,
 "nbformat_minor": 2
}

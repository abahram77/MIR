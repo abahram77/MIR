{
 "cells": [
  {
   "cell_type": "markdown",
   "metadata": {},
   "source": [
    "# Boolean Retrieval\n",
    "\n",
    "**Boolean Retrieval Disadvantages:**\n",
    "\n",
    "1. To process large document collections quickly. The amount of online data\n",
    "has grown at least as quickly as the speed of computers, and we would\n",
    "now like to be able to search collections that total in the order of billions\n",
    "to trillions of words.\n",
    "2. To allow more flexible matching operations. For example, it is impractical\n",
    "to perform the query Romans NEAR countrymen with grep, where NEAR\n",
    "might be defined as “within 5 words” or “within the same sentence”.\n",
    "3. To allow ranked retrieval: in many cases you want the best answer to an\n",
    "information need among many documents that contain certain words."
   ]
  },
  {
   "cell_type": "markdown",
   "metadata": {},
   "source": [
    "## 1. Intersection"
   ]
  },
  {
   "cell_type": "code",
   "execution_count": 1,
   "metadata": {},
   "outputs": [
    {
     "name": "stdout",
     "output_type": "stream",
     "text": [
      "[2, 31]\n"
     ]
    }
   ],
   "source": [
    "def intersection(A, B):\n",
    "    a, b = len(A), len(B)\n",
    "    i , j = 0, 0\n",
    "    result = []\n",
    "    while i < a and j < b:\n",
    "        if A[i] == B[j]:\n",
    "            result.append(A[i])\n",
    "            i += 1\n",
    "            j += 1\n",
    "        elif A[i] < B[j]:\n",
    "            i += 1\n",
    "        else:\n",
    "            j += 1\n",
    "    return result\n",
    "\n",
    "A = [1, 2, 4, 11, 31, 45, 173, 174]\n",
    "B = [2, 31, 54, 101]\n",
    "\n",
    "print(intersection(A, B))"
   ]
  },
  {
   "cell_type": "markdown",
   "metadata": {},
   "source": [
    "## Exercises"
   ]
  },
  {
   "cell_type": "markdown",
   "metadata": {},
   "source": [
    "### Exercise 1.1: Draw the inverted index that would be built for the following document collection.\n",
    "---\n",
    "**Doc 1** new home sales top forecasts\n",
    "\n",
    "**Doc 2** home sales rise in july\n",
    "\n",
    "**Doc 3** increase in home sales in july\n",
    "\n",
    "**Doc 4** july new home sales rise"
   ]
  },
  {
   "cell_type": "code",
   "execution_count": 2,
   "metadata": {},
   "outputs": [
    {
     "name": "stdout",
     "output_type": "stream",
     "text": [
      "[('forecasts', 1), ('home', 1), ('home', 2), ('home', 3), ('home', 4), ('in', 2), ('in', 3), ('increase', 3), ('july', 2), ('july', 3), ('july', 4), ('new', 1), ('new', 4), ('rise', 2), ('rise', 4), ('sales', 1), ('sales', 2), ('sales', 3), ('sales', 4), ('top', 1)]\n",
      "\n",
      "forecasts -> [1] -> 1\n",
      "home -> [1, 2, 3, 4] -> 4\n",
      "in -> [2, 3] -> 2\n",
      "increase -> [3] -> 1\n",
      "july -> [2, 3, 4] -> 3\n",
      "new -> [1, 4] -> 2\n",
      "rise -> [2, 4] -> 2\n",
      "sales -> [1, 2, 3, 4] -> 4\n",
      "top -> [1] -> 1\n"
     ]
    }
   ],
   "source": [
    "tokens, inverted_index = [], {}\n",
    "\n",
    "def tokenizer(doc, doc_id):\n",
    "    list_of_tokens = doc.split(' ')\n",
    "    for token in list_of_tokens:\n",
    "        if (token, doc_id) not in tokens:\n",
    "            tokens.append((token, doc_id))\n",
    "\n",
    "doc1 = 'new home sales top forecasts'\n",
    "doc2 = 'home sales rise in july'\n",
    "doc3 = 'increase in home sales in july'\n",
    "doc4 = 'july new home sales rise'\n",
    "\n",
    "tokenizer(doc1, 1)\n",
    "tokenizer(doc2, 2)\n",
    "tokenizer(doc3, 3)\n",
    "tokenizer(doc4, 4)\n",
    "\n",
    "tokens = sorted(tokens)\n",
    "num_of_tokens = len(tokens)\n",
    "\n",
    "\n",
    "for i in range(num_of_tokens):\n",
    "    counter = 1\n",
    "    if tokens[i][0] not in inverted_index.keys():\n",
    "        inverted_index[tokens[i][0]] = [tokens[i][1]]\n",
    "        \n",
    "    for j in range(i + 1, num_of_tokens):\n",
    "        if tokens[i][0] == tokens[j][0]:\n",
    "            if tokens[j][1] not in inverted_index[tokens[i][0]]:\n",
    "                inverted_index[tokens[i][0]].append(tokens[j][1])\n",
    "                counter += 1\n",
    "print(tokens)\n",
    "print()\n",
    "for key in inverted_index.keys():\n",
    "    print(key, '->', inverted_index[key], '->', len(inverted_index[key]))"
   ]
  },
  {
   "cell_type": "markdown",
   "metadata": {},
   "source": [
    "### Exercise 1.2\n",
    "---\n",
    "\n",
    "**Doc 1** breakthrough drug for schizophrenia\n",
    "\n",
    "**Doc 2** new schizophrenia drug\n",
    "\n",
    "**Doc 3** new approach for treatment of schizophrenia\n",
    "\n",
    "**Doc 4** new hopes for schizophrenia patients\n"
   ]
  },
  {
   "cell_type": "code",
   "execution_count": 3,
   "metadata": {},
   "outputs": [],
   "source": [
    "import numpy as np\n",
    "import pandas as pd"
   ]
  },
  {
   "cell_type": "code",
   "execution_count": 4,
   "metadata": {},
   "outputs": [
    {
     "name": "stdout",
     "output_type": "stream",
     "text": [
      "['approach', 'breakthrough', 'drug', 'for', 'hopes', 'new', 'of', 'patients', 'schizophrenia', 'treatment']\n"
     ]
    }
   ],
   "source": [
    "tokens = []\n",
    "\n",
    "doc1 = \"breakthrough drug for schizophrenia\"\n",
    "doc2 = \"new schizophrenia drug\"\n",
    "doc3 = \"new approach for treatment of schizophrenia\"\n",
    "doc4 = \"new hopes for schizophrenia patients\"\n",
    "\n",
    "tokenizer(doc1, 1)\n",
    "tokenizer(doc2, 2)\n",
    "tokenizer(doc3, 3)\n",
    "tokenizer(doc4, 4)\n",
    "\n",
    "tokens = sorted(tokens)\n",
    "unique_tokens = []\n",
    "for token in tokens:\n",
    "    if token[0] not in unique_tokens:\n",
    "        unique_tokens.append(token[0])\n",
    "print(unique_tokens)"
   ]
  },
  {
   "cell_type": "code",
   "execution_count": 5,
   "metadata": {
    "scrolled": true
   },
   "outputs": [
    {
     "data": {
      "text/html": [
       "<div>\n",
       "<style scoped>\n",
       "    .dataframe tbody tr th:only-of-type {\n",
       "        vertical-align: middle;\n",
       "    }\n",
       "\n",
       "    .dataframe tbody tr th {\n",
       "        vertical-align: top;\n",
       "    }\n",
       "\n",
       "    .dataframe thead th {\n",
       "        text-align: right;\n",
       "    }\n",
       "</style>\n",
       "<table border=\"1\" class=\"dataframe\">\n",
       "  <thead>\n",
       "    <tr style=\"text-align: right;\">\n",
       "      <th></th>\n",
       "      <th>0</th>\n",
       "      <th>1</th>\n",
       "      <th>2</th>\n",
       "      <th>3</th>\n",
       "    </tr>\n",
       "  </thead>\n",
       "  <tbody>\n",
       "    <tr>\n",
       "      <th>approach</th>\n",
       "      <td>0</td>\n",
       "      <td>0</td>\n",
       "      <td>1</td>\n",
       "      <td>0</td>\n",
       "    </tr>\n",
       "    <tr>\n",
       "      <th>breakthrough</th>\n",
       "      <td>1</td>\n",
       "      <td>0</td>\n",
       "      <td>0</td>\n",
       "      <td>0</td>\n",
       "    </tr>\n",
       "    <tr>\n",
       "      <th>drug</th>\n",
       "      <td>1</td>\n",
       "      <td>0</td>\n",
       "      <td>0</td>\n",
       "      <td>0</td>\n",
       "    </tr>\n",
       "    <tr>\n",
       "      <th>for</th>\n",
       "      <td>1</td>\n",
       "      <td>0</td>\n",
       "      <td>0</td>\n",
       "      <td>0</td>\n",
       "    </tr>\n",
       "    <tr>\n",
       "      <th>hopes</th>\n",
       "      <td>0</td>\n",
       "      <td>0</td>\n",
       "      <td>0</td>\n",
       "      <td>1</td>\n",
       "    </tr>\n",
       "    <tr>\n",
       "      <th>new</th>\n",
       "      <td>0</td>\n",
       "      <td>1</td>\n",
       "      <td>0</td>\n",
       "      <td>0</td>\n",
       "    </tr>\n",
       "    <tr>\n",
       "      <th>of</th>\n",
       "      <td>0</td>\n",
       "      <td>0</td>\n",
       "      <td>1</td>\n",
       "      <td>0</td>\n",
       "    </tr>\n",
       "    <tr>\n",
       "      <th>patients</th>\n",
       "      <td>0</td>\n",
       "      <td>0</td>\n",
       "      <td>0</td>\n",
       "      <td>1</td>\n",
       "    </tr>\n",
       "    <tr>\n",
       "      <th>schizophrenia</th>\n",
       "      <td>1</td>\n",
       "      <td>0</td>\n",
       "      <td>0</td>\n",
       "      <td>0</td>\n",
       "    </tr>\n",
       "    <tr>\n",
       "      <th>treatment</th>\n",
       "      <td>0</td>\n",
       "      <td>0</td>\n",
       "      <td>1</td>\n",
       "      <td>0</td>\n",
       "    </tr>\n",
       "  </tbody>\n",
       "</table>\n",
       "</div>"
      ],
      "text/plain": [
       "               0  1  2  3\n",
       "approach       0  0  1  0\n",
       "breakthrough   1  0  0  0\n",
       "drug           1  0  0  0\n",
       "for            1  0  0  0\n",
       "hopes          0  0  0  1\n",
       "new            0  1  0  0\n",
       "of             0  0  1  0\n",
       "patients       0  0  0  1\n",
       "schizophrenia  1  0  0  0\n",
       "treatment      0  0  1  0"
      ]
     },
     "execution_count": 5,
     "metadata": {},
     "output_type": "execute_result"
    }
   ],
   "source": [
    "incidence_matrix = np.zeros(shape = (len(unique_tokens), 4))\n",
    "df = pd.DataFrame(incidence_matrix, index=unique_tokens)\n",
    "\n",
    "for word in unique_tokens:\n",
    "    if word in doc1:\n",
    "        df.loc[word, 0] = 1\n",
    "    elif word in doc2:\n",
    "        df.loc[word, 1] = 1\n",
    "    elif word in doc3:\n",
    "        df.loc[word, 2] = 1\n",
    "    elif word in doc4:\n",
    "        df.loc[word, 3] = 1\n",
    "\n",
    "df = df.astype(int)\n",
    "df"
   ]
  },
  {
   "cell_type": "markdown",
   "metadata": {},
   "source": [
    "### Exercise 1.3"
   ]
  },
  {
   "cell_type": "code",
   "execution_count": 6,
   "metadata": {},
   "outputs": [
    {
     "data": {
      "text/plain": [
       "'1000'"
      ]
     },
     "execution_count": 6,
     "metadata": {},
     "output_type": "execute_result"
    }
   ],
   "source": [
    "answer = ''\n",
    "for i in range((len(df.columns))):\n",
    "    if df.loc['schizophrenia', i] == 1 and df.loc['drug', i] == 1:\n",
    "        answer += '1'\n",
    "    else:\n",
    "        answer += '0'\n",
    "answer"
   ]
  }
 ],
 "metadata": {
  "kernelspec": {
   "display_name": "Python 3",
   "language": "python",
   "name": "python3"
  },
  "language_info": {
   "codemirror_mode": {
    "name": "ipython",
    "version": 3
   },
   "file_extension": ".py",
   "mimetype": "text/x-python",
   "name": "python",
   "nbconvert_exporter": "python",
   "pygments_lexer": "ipython3",
   "version": "3.6.9"
  }
 },
 "nbformat": 4,
 "nbformat_minor": 2
}

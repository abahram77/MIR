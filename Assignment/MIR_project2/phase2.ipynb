{
 "cells": [
  {
   "cell_type": "markdown",
   "metadata": {
    "ExecuteTime": {
     "end_time": "2020-05-24T12:53:31.267233Z",
     "start_time": "2020-05-24T12:53:31.261907Z"
    }
   },
   "source": [
    "# Installing required packages"
   ]
  },
  {
   "cell_type": "code",
   "execution_count": 37,
   "metadata": {
    "ExecuteTime": {
     "end_time": "2020-05-26T10:11:34.151198Z",
     "start_time": "2020-05-26T10:11:30.511568Z"
    }
   },
   "outputs": [
    {
     "name": "stdout",
     "output_type": "stream",
     "text": [
      "WARNING: pip is being invoked by an old script wrapper. This will fail in a future version of pip.\n",
      "Please see https://github.com/pypa/pip/issues/5599 for advice on fixing the underlying issue.\n",
      "To avoid this problem you can invoke Python with '-m pip' instead of running pip directly.\n",
      "Defaulting to user installation because normal site-packages is not writeable\n",
      "Requirement already satisfied: nltk in /usr/local/lib/python3.6/dist-packages (3.5)\n",
      "Requirement already satisfied: regex in /usr/local/lib/python3.6/dist-packages (from nltk) (2020.5.14)\n",
      "Requirement already satisfied: tqdm in /usr/local/lib/python3.6/dist-packages (from nltk) (4.46.0)\n",
      "Requirement already satisfied: joblib in /usr/local/lib/python3.6/dist-packages (from nltk) (0.15.1)\n",
      "Requirement already satisfied: click in /home/mostafa/.local/lib/python3.6/site-packages (from nltk) (7.1.1)\n",
      "WARNING: pip is being invoked by an old script wrapper. This will fail in a future version of pip.\n",
      "Please see https://github.com/pypa/pip/issues/5599 for advice on fixing the underlying issue.\n",
      "To avoid this problem you can invoke Python with '-m pip' instead of running pip directly.\n",
      "Defaulting to user installation because normal site-packages is not writeable\n",
      "Requirement already satisfied: sklearn in /home/mostafa/.local/lib/python3.6/site-packages (0.0)\n",
      "Requirement already satisfied: scikit-learn in /home/mostafa/.local/lib/python3.6/site-packages (from sklearn) (0.23.1)\n",
      "Requirement already satisfied: threadpoolctl>=2.0.0 in /home/mostafa/.local/lib/python3.6/site-packages (from scikit-learn->sklearn) (2.0.0)\n",
      "Requirement already satisfied: scipy>=0.19.1 in /home/mostafa/.local/lib/python3.6/site-packages (from scikit-learn->sklearn) (1.4.1)\n",
      "Requirement already satisfied: joblib>=0.11 in /usr/local/lib/python3.6/dist-packages (from scikit-learn->sklearn) (0.15.1)\n",
      "Requirement already satisfied: numpy>=1.13.3 in /home/mostafa/.local/lib/python3.6/site-packages (from scikit-learn->sklearn) (1.18.2)\n",
      "WARNING: pip is being invoked by an old script wrapper. This will fail in a future version of pip.\n",
      "Please see https://github.com/pypa/pip/issues/5599 for advice on fixing the underlying issue.\n",
      "To avoid this problem you can invoke Python with '-m pip' instead of running pip directly.\n",
      "Defaulting to user installation because normal site-packages is not writeable\n",
      "Requirement already satisfied: numpy in /home/mostafa/.local/lib/python3.6/site-packages (1.18.2)\n"
     ]
    }
   ],
   "source": [
    "!pip3 install nltk\n",
    "!pip3 install sklearn\n",
    "!pip3 install numpy"
   ]
  },
  {
   "cell_type": "markdown",
   "metadata": {},
   "source": [
    "## Downloading nltk packages"
   ]
  },
  {
   "cell_type": "code",
   "execution_count": null,
   "metadata": {
    "ExecuteTime": {
     "end_time": "2020-05-25T13:20:19.869750Z",
     "start_time": "2020-05-25T13:19:35.249262Z"
    }
   },
   "outputs": [],
   "source": [
    "import nltk\n",
    "nltk.download('wordnet', 'stopwords', 'punkt')"
   ]
  },
  {
   "cell_type": "markdown",
   "metadata": {},
   "source": [
    "# Importing packages"
   ]
  },
  {
   "cell_type": "code",
   "execution_count": 1,
   "metadata": {
    "ExecuteTime": {
     "end_time": "2020-05-25T16:58:18.866133Z",
     "start_time": "2020-05-25T16:58:18.058233Z"
    }
   },
   "outputs": [],
   "source": [
    "import json\n",
    "from math import sqrt, log\n",
    "import numpy as np\n",
    "from nltk.stem import PorterStemmer, WordNetLemmatizer\n",
    "from math import log\n",
    "from nltk.corpus import stopwords as sw\n",
    "import time"
   ]
  },
  {
   "cell_type": "code",
   "execution_count": 2,
   "metadata": {
    "ExecuteTime": {
     "end_time": "2020-05-26T10:23:47.165603Z",
     "start_time": "2020-05-26T10:23:47.159196Z"
    }
   },
   "outputs": [],
   "source": [
    "from sklearn import svm\n",
    "from sklearn.ensemble import RandomForestClassifier"
   ]
  },
  {
   "cell_type": "markdown",
   "metadata": {
    "ExecuteTime": {
     "end_time": "2020-05-20T18:08:37.624117Z",
     "start_time": "2020-05-20T18:08:37.604856Z"
    }
   },
   "source": [
    "# Reading data"
   ]
  },
  {
   "cell_type": "code",
   "execution_count": 3,
   "metadata": {
    "ExecuteTime": {
     "end_time": "2020-05-25T16:58:20.449183Z",
     "start_time": "2020-05-25T16:58:20.434841Z"
    }
   },
   "outputs": [],
   "source": [
    "def get_data(path):    \n",
    "    '''Reading the json files from passed path'''\n",
    "    with open(path) as d:\n",
    "        json_data = json.load(d)\n",
    "    return json_data"
   ]
  },
  {
   "cell_type": "markdown",
   "metadata": {},
   "source": [
    "# Data Operations"
   ]
  },
  {
   "cell_type": "code",
   "execution_count": 4,
   "metadata": {
    "ExecuteTime": {
     "end_time": "2020-05-25T16:58:22.202296Z",
     "start_time": "2020-05-25T16:58:22.181421Z"
    }
   },
   "outputs": [],
   "source": [
    "def get_doc_terms(doc_info):\n",
    "    '''concatenate all terms (title + body) of the passed doc'''\n",
    "    body_terms = doc_info['body'].split()\n",
    "    title_terms = doc_info['title'].split()\n",
    "    all_terms = body_terms + title_terms\n",
    "    return all_terms"
   ]
  },
  {
   "cell_type": "markdown",
   "metadata": {},
   "source": [
    "## Count term frequency over collection"
   ]
  },
  {
   "cell_type": "code",
   "execution_count": 5,
   "metadata": {
    "ExecuteTime": {
     "end_time": "2020-05-25T16:58:26.651711Z",
     "start_time": "2020-05-25T16:58:26.623373Z"
    }
   },
   "outputs": [],
   "source": [
    "stopwords = sw.words('english')"
   ]
  },
  {
   "cell_type": "code",
   "execution_count": 6,
   "metadata": {
    "ExecuteTime": {
     "end_time": "2020-05-25T16:58:28.849070Z",
     "start_time": "2020-05-25T16:58:28.805226Z"
    }
   },
   "outputs": [],
   "source": [
    "def get_document_frequency(json_data):\n",
    "    vectors = {}\n",
    "    \n",
    "    lemmatizer = WordNetLemmatizer()\n",
    "    stemmer = PorterStemmer()\n",
    "    \n",
    "    for doc_id, doc in enumerate(json_data):\n",
    "        terms = get_doc_terms(doc)\n",
    "        for term in terms:\n",
    "            if term not in stopwords:\n",
    "                term = lemmatizer.lemmatize(term)\n",
    "                if term not in vectors:\n",
    "                    vectors[term] = []\n",
    "                if doc_id not in vectors[term]:\n",
    "                    vectors[term].append(doc_id)\n",
    "    \n",
    "    vectors_list = list(vectors.items())\n",
    "    term_map_index = {}\n",
    "    \n",
    "    for i in range(len(vectors_list)):\n",
    "        term = vectors_list[i][0]\n",
    "        term_map_index[term] = i\n",
    "    \n",
    "    frequencies = []\n",
    "    for word, freq_list in vectors_list:\n",
    "        frequencies.append(len(freq_list))\n",
    "    \n",
    "    return term_map_index, frequencies"
   ]
  },
  {
   "cell_type": "code",
   "execution_count": 7,
   "metadata": {
    "ExecuteTime": {
     "end_time": "2020-05-25T17:09:29.994600Z",
     "start_time": "2020-05-25T17:09:29.929856Z"
    }
   },
   "outputs": [],
   "source": [
    "def get_vector(json_data, term_map_index, frequencies, train_docs_no):\n",
    "    term_no = len(term_map_index)\n",
    "    data_no = len(json_data)\n",
    "    vector = np.zeros((data_no, term_no))\n",
    "        \n",
    "    for doc_id, doc in enumerate(json_data):\n",
    "        terms = get_doc_terms(doc)\n",
    "        doc_term_freq = {}\n",
    "        \n",
    "        for term in terms:\n",
    "            if term not in stopwords:\n",
    "                if term not in doc_term_freq:\n",
    "                    doc_term_freq[term] = 0\n",
    "                doc_term_freq[term] += 1\n",
    "                \n",
    "        for term in doc_term_freq:\n",
    "            if term in term_map_index:\n",
    "                index = term_map_index[term]\n",
    "                doc_frequency = frequencies[index]\n",
    "                tf = doc_term_freq[term]\n",
    "                idf = log(train_docs_no/doc_frequency)\n",
    "                vector[doc_id, index] = tf * idf\n",
    "    \n",
    "    return vector"
   ]
  },
  {
   "cell_type": "code",
   "execution_count": 8,
   "metadata": {
    "ExecuteTime": {
     "end_time": "2020-05-25T17:09:31.734030Z",
     "start_time": "2020-05-25T17:09:31.725736Z"
    }
   },
   "outputs": [],
   "source": [
    "def get_category(data):\n",
    "    '''return list of categories for train and test docs'''\n",
    "    categories = []\n",
    "    \n",
    "    for doc in data:\n",
    "        category = doc['category']\n",
    "        categories.append(category)\n",
    "        \n",
    "    return categories"
   ]
  },
  {
   "cell_type": "markdown",
   "metadata": {},
   "source": [
    "## Assigning variables"
   ]
  },
  {
   "cell_type": "code",
   "execution_count": 86,
   "metadata": {
    "ExecuteTime": {
     "end_time": "2020-05-25T17:09:41.744386Z",
     "start_time": "2020-05-25T17:09:33.796578Z"
    }
   },
   "outputs": [
    {
     "name": "stdout",
     "output_type": "stream",
     "text": [
      "elapsed time: 1.2536721229553223\n"
     ]
    }
   ],
   "source": [
    "start_time = time.time()\n",
    "\n",
    "train_data = get_data('./data/train.json')\n",
    "test_data = get_data('./data/validation.json')\n",
    "# print(list(train_data)[:10])\n",
    "\n",
    "\n",
    "N = len(train_data)\n",
    "\n",
    "N = N // 12\n",
    "\n",
    "#randomly pick N data from train\n",
    "train_data = train_data[:N]\n",
    "test_data = test_data[:300]\n",
    "\n",
    "term_map_index, frequencies = get_document_frequency(train_data)\n",
    "\n",
    "train_categories = get_category(train_data)\n",
    "test_categories = get_category(test_data)\n",
    "# print(train_categories)[:10]\n",
    "\n",
    "#train and test vectors \n",
    "train_vector = get_vector(train_data, term_map_index, frequencies, N)\n",
    "test_vector = get_vector(test_data, term_map_index, frequencies, N)\n",
    "\n",
    "finish_time = time.time()\n",
    "print('elapsed time:', finish_time - start_time)"
   ]
  },
  {
   "cell_type": "markdown",
   "metadata": {},
   "source": [
    "# kNN (k Nearest Neighbor)\n",
    "\n",
    "There are two methods used for measuring nearest neighbors: \n",
    "1. Cosine Similarity\n",
    "2. Euclidean Distance\n",
    "\n",
    "The Following sections would be the implementation of each method. "
   ]
  },
  {
   "cell_type": "markdown",
   "metadata": {},
   "source": [
    "## Cosine Similarity\n",
    "\n",
    "Cosine Similarity = train.test^t / |train|.|test^t|\n",
    "\n",
    "Since |test^t| is constant, we can ignore its value and don't calculate it. "
   ]
  },
  {
   "cell_type": "markdown",
   "metadata": {},
   "source": [
    "## Euclidean Distance"
   ]
  },
  {
   "cell_type": "code",
   "execution_count": 21,
   "metadata": {
    "ExecuteTime": {
     "end_time": "2020-05-25T17:11:15.302376Z",
     "start_time": "2020-05-25T17:11:00.228980Z"
    }
   },
   "outputs": [],
   "source": [
    "euclidean_distance = None\n",
    "def calculate_euclidean_distance(train, test):\n",
    "    '''Euclidean Distance'''\n",
    "    global euclidean_distance\n",
    "    x_2 = np.sum(test * test, axis=1)\n",
    "    test_transpose = test.T\n",
    "    xy = np.dot(train, test_transpose).T\n",
    "    y_2 = np.sum(train * train, axis = 1)\n",
    "    \n",
    "    #make the test 1-column for evaluation\n",
    "    x_2 = x_2[:,None]\n",
    "    result = x_2 + y_2 - 2 * xy\n",
    "    euclidean_distance = np.sqrt(result)\n",
    "    return euclidean_distance\n"
   ]
  },
  {
   "cell_type": "code",
   "execution_count": 22,
   "metadata": {
    "ExecuteTime": {
     "end_time": "2020-05-25T17:11:34.314259Z",
     "start_time": "2020-05-25T17:11:17.411381Z"
    }
   },
   "outputs": [],
   "source": [
    "cosine_similarity = None\n",
    "def calculate_cosine_similarity(train, test):\n",
    "    '''consine_similarity = train.test^t / |train|.|test|'''\n",
    "    global cosine_similarity\n",
    "    test_transpose = test.T\n",
    "    dot_product = np.dot(train, test_transpose).T\n",
    "    normalization = np.linalg.norm(train, axis=1)\n",
    "    cosine_similarity = dot_product / normalization\n",
    "    return cosine_similarity\n"
   ]
  },
  {
   "cell_type": "markdown",
   "metadata": {},
   "source": [
    "## kNN "
   ]
  },
  {
   "cell_type": "code",
   "execution_count": 31,
   "metadata": {
    "ExecuteTime": {
     "end_time": "2020-05-25T17:13:21.483184Z",
     "start_time": "2020-05-25T17:13:21.463009Z"
    }
   },
   "outputs": [],
   "source": [
    "def knn(doc_id, method, k):\n",
    "    global cosine_similarity\n",
    "    global euclidean_distance\n",
    "    if method == 'cosine':\n",
    "        similarities = cosine_similarity[doc_id]\n",
    "        nearest = sorted(range(len(similarities)), key=lambda i: similarities[i], reverse=True)[:k]\n",
    "    elif method == 'euclidean':\n",
    "        distances = euclidean_distance[doc_id]\n",
    "        nearest = sorted(range(len(distances)), key=lambda i: distances[i])[:k]\n",
    "    categories = {}\n",
    "    for i in range(len(nearest)):\n",
    "        category = train_categories[nearest[i]]\n",
    "        if category not in categories:\n",
    "          categories[category] = 0\n",
    "        categories[category] += 1\n",
    "    \n",
    "    return max(categories, key=categories.get)\n",
    "    \n"
   ]
  },
  {
   "cell_type": "markdown",
   "metadata": {
    "ExecuteTime": {
     "end_time": "2020-05-16T11:51:05.892180Z",
     "start_time": "2020-05-16T11:51:05.884485Z"
    }
   },
   "source": [
    "# Performance Measure"
   ]
  },
  {
   "cell_type": "code",
   "execution_count": 23,
   "metadata": {
    "ExecuteTime": {
     "end_time": "2020-05-25T17:13:23.600979Z",
     "start_time": "2020-05-25T17:13:23.567629Z"
    }
   },
   "outputs": [],
   "source": [
    "def get_vector_creation_time(method):\n",
    "    start_time = time.time()\n",
    "    \n",
    "    if method == 'euclidean':\n",
    "        calculate_euclidean_distance(train_vector, test_vector)\n",
    "    elif method == 'cosine':\n",
    "        calculate_cosine_similarity(train_vector, test_vector)\n",
    "    finish_time = time.time()\n",
    "    elapsed_time = finish_time - start_time\n",
    "    return elapsed_time"
   ]
  },
  {
   "cell_type": "code",
   "execution_count": 64,
   "metadata": {
    "ExecuteTime": {
     "end_time": "2020-05-25T17:13:24.981850Z",
     "start_time": "2020-05-25T17:13:24.961723Z"
    }
   },
   "outputs": [],
   "source": [
    "def get_recall(method, category_no=4, k=5):\n",
    "    tp, total = [], []\n",
    "    \n",
    "    for i in range(category_no):\n",
    "        tp.append(0)\n",
    "        total.append(0)\n",
    "        \n",
    "    test_no = len(test_data)\n",
    "    for i in range(test_no):\n",
    "        real = test_data[i]['category']\n",
    "        if method == 'bayes':\n",
    "          predicted = naive_bayes_testing(test_data[i], 1)\n",
    "        else:\n",
    "          predicted = knn(i, method, k)\n",
    "        index = real - 1\n",
    "        \n",
    "        if real == predicted:\n",
    "            tp[index] += 1\n",
    "            \n",
    "        total[index] += 1\n",
    "    \n",
    "    recall = {}\n",
    "    \n",
    "    for i in range(category_no):\n",
    "        index = i + 1\n",
    "        recall[index] = tp[i]/total[i]\n",
    "    \n",
    "    return recall"
   ]
  },
  {
   "cell_type": "code",
   "execution_count": 68,
   "metadata": {
    "ExecuteTime": {
     "end_time": "2020-05-25T17:13:26.746662Z",
     "start_time": "2020-05-25T17:13:26.708380Z"
    }
   },
   "outputs": [],
   "source": [
    "def get_precision(method, category_no=4, k=5):\n",
    "    tp, total = [], []\n",
    "    \n",
    "    for i in range(category_no):\n",
    "        tp.append(0)\n",
    "        total.append(0)\n",
    "        \n",
    "    test_no = len(test_data)\n",
    "    for i in range(test_no):\n",
    "        real = test_data[i]['category']\n",
    "        if method == 'bayes':\n",
    "          predicted = naive_bayes_testing(test_data[i], 1)\n",
    "        else:\n",
    "          predicted = knn(i, method, k)\n",
    "        index = predicted - 1\n",
    "        \n",
    "        if real == predicted:\n",
    "            tp[real - 1] += 1\n",
    "            \n",
    "        total[index] += 1\n",
    "    \n",
    "    precision = {}\n",
    "    \n",
    "    for i in range(category_no):\n",
    "        index = i + 1\n",
    "        precision[index] = tp[i]/total[i]\n",
    "    \n",
    "    return precision"
   ]
  },
  {
   "cell_type": "code",
   "execution_count": 69,
   "metadata": {
    "ExecuteTime": {
     "end_time": "2020-05-25T17:13:28.772647Z",
     "start_time": "2020-05-25T17:13:28.760882Z"
    }
   },
   "outputs": [],
   "source": [
    "def get_accuracy(method, category_no=4, k=5):\n",
    "    test_no = len(test_data)\n",
    "    tp = 0\n",
    "    \n",
    "    for i in range(test_no):\n",
    "        if method == 'bayes':\n",
    "          predicted = naive_bayes_testing(test_data[i], 1)\n",
    "        else:\n",
    "          predicted = knn(i, method, k)\n",
    "        real = test_data[i]['category']\n",
    "        \n",
    "        if predicted == real:\n",
    "            tp += 1\n",
    "    \n",
    "    accuracy = tp/test_no\n",
    "    return accuracy"
   ]
  },
  {
   "cell_type": "code",
   "execution_count": 74,
   "metadata": {
    "ExecuteTime": {
     "end_time": "2020-05-25T17:13:30.192971Z",
     "start_time": "2020-05-25T17:13:30.178927Z"
    }
   },
   "outputs": [],
   "source": [
    "def get_marco_f1(precision_val, recall_val, category_no=4):\n",
    "    results = []\n",
    "    for i in range(1, category_no+1):\n",
    "        result = 2 * precision_val[i] * recall_val[i] / (precision_val[i] + recall_val[i])\n",
    "        results.append(result)\n",
    "    return np.mean(results)"
   ]
  },
  {
   "cell_type": "markdown",
   "metadata": {},
   "source": [
    "## Euclidean"
   ]
  },
  {
   "cell_type": "code",
   "execution_count": 37,
   "metadata": {
    "ExecuteTime": {
     "end_time": "2020-05-25T14:50:50.232703Z",
     "start_time": "2020-05-25T14:50:35.356772Z"
    }
   },
   "outputs": [
    {
     "data": {
      "text/plain": [
       "48.714179039001465"
      ]
     },
     "execution_count": 37,
     "metadata": {},
     "output_type": "execute_result"
    }
   ],
   "source": [
    "get_vector_creation_time('euclidean')"
   ]
  },
  {
   "cell_type": "code",
   "execution_count": 43,
   "metadata": {},
   "outputs": [
    {
     "data": {
      "text/plain": [
       "{1: 0.9613333333333334,\n",
       " 2: 0.05733333333333333,\n",
       " 3: 0.144,\n",
       " 4: 0.3973333333333333}"
      ]
     },
     "execution_count": 43,
     "metadata": {},
     "output_type": "execute_result"
    }
   ],
   "source": [
    "euclidean_recall = get_recall('euclidean')\n",
    "euclidean_recall"
   ]
  },
  {
   "cell_type": "code",
   "execution_count": 44,
   "metadata": {},
   "outputs": [
    {
     "data": {
      "text/plain": [
       "{1: 0.30486257928118393,\n",
       " 2: 0.9347826086956522,\n",
       " 3: 0.8925619834710744,\n",
       " 4: 0.6367521367521367}"
      ]
     },
     "execution_count": 44,
     "metadata": {},
     "output_type": "execute_result"
    }
   ],
   "source": [
    "euclidean_precision = get_precision('euclidean')\n",
    "euclidean_precision"
   ]
  },
  {
   "cell_type": "code",
   "execution_count": 41,
   "metadata": {},
   "outputs": [
    {
     "data": {
      "text/plain": [
       "0.39"
      ]
     },
     "execution_count": 41,
     "metadata": {},
     "output_type": "execute_result"
    }
   ],
   "source": [
    "get_accuracy('euclidean')"
   ]
  },
  {
   "cell_type": "code",
   "execution_count": 76,
   "metadata": {},
   "outputs": [
    {
     "data": {
      "text/plain": [
       "0.32706978241586504"
      ]
     },
     "execution_count": 76,
     "metadata": {},
     "output_type": "execute_result"
    }
   ],
   "source": [
    "get_marco_f1(euclidean_precision, euclidean_recall)"
   ]
  },
  {
   "cell_type": "code",
   "execution_count": 48,
   "metadata": {},
   "outputs": [
    {
     "data": {
      "text/plain": [
       "52.60592985153198"
      ]
     },
     "execution_count": 48,
     "metadata": {},
     "output_type": "execute_result"
    }
   ],
   "source": [
    "get_vector_creation_time('cosine')"
   ]
  },
  {
   "cell_type": "code",
   "execution_count": 49,
   "metadata": {},
   "outputs": [
    {
     "data": {
      "text/plain": [
       "{1: 0.832, 2: 0.9186666666666666, 3: 0.7906666666666666, 4: 0.7773333333333333}"
      ]
     },
     "execution_count": 49,
     "metadata": {},
     "output_type": "execute_result"
    }
   ],
   "source": [
    "cosine_recall = get_recall('cosine')\n",
    "cosine_recall"
   ]
  },
  {
   "cell_type": "code",
   "execution_count": 50,
   "metadata": {},
   "outputs": [
    {
     "data": {
      "text/plain": [
       "{1: 0.8409703504043127,\n",
       " 2: 0.8699494949494949,\n",
       " 3: 0.7782152230971129,\n",
       " 4: 0.828125}"
      ]
     },
     "execution_count": 50,
     "metadata": {},
     "output_type": "execute_result"
    }
   ],
   "source": [
    "cosine_precision = get_precision('cosine')\n",
    "cosine_precision"
   ]
  },
  {
   "cell_type": "code",
   "execution_count": 51,
   "metadata": {},
   "outputs": [
    {
     "data": {
      "text/plain": [
       "0.8296666666666667"
      ]
     },
     "execution_count": 51,
     "metadata": {},
     "output_type": "execute_result"
    }
   ],
   "source": [
    "get_accuracy('cosine')"
   ]
  },
  {
   "cell_type": "code",
   "execution_count": 75,
   "metadata": {},
   "outputs": [
    {
     "data": {
      "text/plain": [
       "0.8291057499806818"
      ]
     },
     "execution_count": 75,
     "metadata": {},
     "output_type": "execute_result"
    }
   ],
   "source": [
    "get_marco_f1(cosine_precision, cosine_recall)"
   ]
  },
  {
   "cell_type": "markdown",
   "metadata": {},
   "source": [
    "# Naive Bayes"
   ]
  },
  {
   "cell_type": "code",
   "execution_count": 60,
   "metadata": {
    "ExecuteTime": {
     "end_time": "2020-05-25T18:09:45.391535Z",
     "start_time": "2020-05-25T18:09:45.370877Z"
    }
   },
   "outputs": [],
   "source": [
    "n_c, t_c = None, None\n",
    "lemmatizer = WordNetLemmatizer()\n",
    "def naive_bayes_training(data, category_no=4):\n",
    "    global n_c\n",
    "    global t_c\n",
    "    term_no = len(term_map_index)\n",
    "    \n",
    "    n_c = []\n",
    "    for i in range(category_no):\n",
    "        n_c.append(0)\n",
    "    \n",
    "    t_c = np.zeros((category_no, term_no))\n",
    "    \n",
    "    for doc_id, doc in enumerate(data):\n",
    "        terms = get_doc_terms(doc)\n",
    "        category = doc['category']\n",
    "\n",
    "        for term in terms:\n",
    "            index = category - 1\n",
    "            if term not in stopwords:\n",
    "                term = lemmatizer.lemmatize(term)\n",
    "                t_c[index, term_map_index[term]] += 1\n",
    "            n_c[index] += 1\n",
    "            "
   ]
  },
  {
   "cell_type": "code",
   "execution_count": 66,
   "metadata": {
    "ExecuteTime": {
     "end_time": "2020-05-26T09:47:31.494846Z",
     "start_time": "2020-05-26T09:47:31.468001Z"
    }
   },
   "outputs": [],
   "source": [
    "def naive_bayes_testing(document, alpha, category_no=4):\n",
    "    global n_c\n",
    "    global t_c\n",
    "    term_no = len(term_map_index)\n",
    "    scores = []\n",
    "    \n",
    "    for i in range(category_no):\n",
    "        score = log(n_c[i]/N)\n",
    "        scores.append(score)\n",
    "    \n",
    "    sigma = np.sum(t_c, axis=1)\n",
    "    \n",
    "    for i in range(category_no):\n",
    "        terms = get_doc_terms(document)\n",
    "        for term in terms:\n",
    "            if term not in stopwords:\n",
    "                term = lemmatizer.lemmatize(term)\n",
    "                if term in term_map_index:\n",
    "                    fraction = log((t_c[i, term_map_index[term]] + alpha) / (sigma[i] + term_no))\n",
    "                    scores[i] += fraction\n",
    "    predicted = np.argmax(scores) + 1\n",
    "\n",
    "    return predicted\n"
   ]
  },
  {
   "cell_type": "markdown",
   "metadata": {},
   "source": [
    "## Performance Measure"
   ]
  },
  {
   "cell_type": "code",
   "execution_count": 61,
   "metadata": {},
   "outputs": [],
   "source": [
    "naive_bayes_training(train_data)"
   ]
  },
  {
   "cell_type": "code",
   "execution_count": 70,
   "metadata": {},
   "outputs": [
    {
     "data": {
      "text/plain": [
       "{1: 0.88, 2: 0.9746666666666667, 3: 0.8546666666666667, 4: 0.856}"
      ]
     },
     "execution_count": 70,
     "metadata": {},
     "output_type": "execute_result"
    }
   ],
   "source": [
    "bayes_recall = get_recall('bayes')\n",
    "bayes_recall"
   ]
  },
  {
   "cell_type": "code",
   "execution_count": 71,
   "metadata": {},
   "outputs": [
    {
     "data": {
      "text/plain": [
       "{1: 0.9078404401650619,\n",
       " 2: 0.9300254452926209,\n",
       " 3: 0.8627187079407806,\n",
       " 4: 0.8629032258064516}"
      ]
     },
     "execution_count": 71,
     "metadata": {},
     "output_type": "execute_result"
    }
   ],
   "source": [
    "bayes_precision = get_precision('bayes')\n",
    "bayes_precision"
   ]
  },
  {
   "cell_type": "code",
   "execution_count": 72,
   "metadata": {},
   "outputs": [
    {
     "data": {
      "text/plain": [
       "0.8913333333333333"
      ]
     },
     "execution_count": 72,
     "metadata": {},
     "output_type": "execute_result"
    }
   ],
   "source": [
    "get_accuracy('bayes')"
   ]
  },
  {
   "cell_type": "code",
   "execution_count": 77,
   "metadata": {},
   "outputs": [
    {
     "data": {
      "text/plain": [
       "0.8909094829335988"
      ]
     },
     "execution_count": 77,
     "metadata": {},
     "output_type": "execute_result"
    }
   ],
   "source": [
    "get_marco_f1(bayes_precision, bayes_recall)"
   ]
  },
  {
   "cell_type": "markdown",
   "metadata": {},
   "source": [
    "# Random Forest"
   ]
  },
  {
   "cell_type": "code",
   "execution_count": 87,
   "metadata": {
    "ExecuteTime": {
     "end_time": "2020-05-26T10:54:26.599776Z",
     "start_time": "2020-05-26T10:39:32.776893Z"
    }
   },
   "outputs": [],
   "source": [
    "start_time = time.time()\n",
    "clf = svm.SVC(kernel='linear', C=1)\n",
    "clf.fit(train_vector, train_categories)\n",
    "finish_time = time.time()\n",
    "elapsed_time = finish_time - start_time"
   ]
  },
  {
   "cell_type": "code",
   "execution_count": 88,
   "metadata": {
    "ExecuteTime": {
     "end_time": "2020-05-26T10:54:47.764963Z",
     "start_time": "2020-05-26T10:54:47.757005Z"
    }
   },
   "outputs": [
    {
     "data": {
      "text/plain": [
       "138.9300298690796"
      ]
     },
     "execution_count": 88,
     "metadata": {},
     "output_type": "execute_result"
    }
   ],
   "source": [
    "elapsed_time"
   ]
  },
  {
   "cell_type": "code",
   "execution_count": 89,
   "metadata": {
    "ExecuteTime": {
     "end_time": "2020-05-26T10:57:09.985379Z",
     "start_time": "2020-05-26T10:57:09.912472Z"
    }
   },
   "outputs": [
    {
     "data": {
      "text/plain": [
       "0.8433333333333334"
      ]
     },
     "execution_count": 89,
     "metadata": {},
     "output_type": "execute_result"
    }
   ],
   "source": [
    "clf.score(test_vector, test_categories)"
   ]
  },
  {
   "cell_type": "code",
   "execution_count": 90,
   "metadata": {
    "ExecuteTime": {
     "end_time": "2020-05-26T10:54:32.108763Z",
     "start_time": "2020-05-26T10:54:26.695232Z"
    }
   },
   "outputs": [],
   "source": [
    "start_RandomForestClassifiermForestClassifiermax_depth=Classifier= time.time()\n",
    "clf = RandomForestClassifier(n_estimators=10, max_depth=None, min_samples_split=2, random_state=0)\n",
    "clf.fit(train_vector, train_categories)\n",
    "finish_time = time.time()\n",
    "elapsed_time = finish_time - start_time"
   ]
  },
  {
   "cell_type": "code",
   "execution_count": 92,
   "metadata": {},
   "outputs": [
    {
     "data": {
      "text/plain": [
       "0.6733333333333333"
      ]
     },
     "execution_count": 92,
     "metadata": {},
     "output_type": "execute_result"
    }
   ],
   "source": [
    "clf.score(test_vector, test_categories)"
   ]
  },
  {
   "cell_type": "code",
   "execution_count": null,
   "metadata": {},
   "outputs": [],
   "source": []
  }
 ],
 "metadata": {
  "kernelspec": {
   "display_name": "Python 3",
   "language": "python",
   "name": "python3"
  },
  "language_info": {
   "codemirror_mode": {
    "name": "ipython",
    "version": 3
   },
   "file_extension": ".py",
   "mimetype": "text/x-python",
   "name": "python",
   "nbconvert_exporter": "python",
   "pygments_lexer": "ipython3",
   "version": "3.6.9"
  }
 },
 "nbformat": 4,
 "nbformat_minor": 2
}

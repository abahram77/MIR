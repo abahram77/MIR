{
 "cells": [
  {
   "cell_type": "code",
   "execution_count": 1,
   "metadata": {
    "ExecuteTime": {
     "end_time": "2020-05-16T09:01:54.887644Z",
     "start_time": "2020-05-16T09:01:54.883350Z"
    }
   },
   "outputs": [],
   "source": [
    "import json"
   ]
  },
  {
   "cell_type": "code",
   "execution_count": 9,
   "metadata": {
    "ExecuteTime": {
     "end_time": "2020-05-16T09:09:02.330736Z",
     "start_time": "2020-05-16T09:09:02.204288Z"
    }
   },
   "outputs": [],
   "source": [
    "with open('./data/train.json') as d:\n",
    "    json_data = json.load(d)"
   ]
  },
  {
   "cell_type": "code",
   "execution_count": 12,
   "metadata": {
    "ExecuteTime": {
     "end_time": "2020-05-16T09:18:10.606558Z",
     "start_time": "2020-05-16T09:18:10.593567Z"
    }
   },
   "outputs": [
    {
     "data": {
      "text/plain": [
       "{'body': 'Every day, cubicle-dwellers get up from their desks and walk to their nearest windows in search of a strong enough signal to make or answer a cell-phone call. Cathy Zatloukal thinks her in-building wireless infrastructure company, MobileAccess Networks, can save them the trip.',\n",
       " 'category': 4,\n",
       " 'title': 'MobileAccess Networks Strengthens Signals for Indoor Use'}"
      ]
     },
     "execution_count": 12,
     "metadata": {},
     "output_type": "execute_result"
    }
   ],
   "source": [
    "json_data[0]"
   ]
  },
  {
   "cell_type": "code",
   "execution_count": 35,
   "metadata": {
    "ExecuteTime": {
     "end_time": "2020-05-16T10:01:47.188720Z",
     "start_time": "2020-05-16T10:01:47.177587Z"
    }
   },
   "outputs": [],
   "source": [
    "def get_doc_terms(doc_info):\n",
    "    body_terms = data['body'].split()\n",
    "    title_terms = data['title'].split()\n",
    "    all_terms = body_terms + title_terms\n",
    "    return all_terms"
   ]
  },
  {
   "cell_type": "code",
   "execution_count": 38,
   "metadata": {
    "ExecuteTime": {
     "end_time": "2020-05-16T10:14:03.173051Z",
     "start_time": "2020-05-16T10:14:02.740074Z"
    }
   },
   "outputs": [],
   "source": [
    "vectors = {}\n",
    "query = {}\n",
    "docs_no = len(json_data)\n",
    "\n",
    "for index, data in enumerate(json_data):\n",
    "\n",
    "    index = str(index)\n",
    "    vectors[index] = {\n",
    "        'terms': {},\n",
    "        'category': 0\n",
    "    }\n",
    "    \n",
    "    all_terms = get_doc_terms(data)\n",
    "    \n",
    "    for term in all_terms:\n",
    "        if term in vectors[index]['terms']:\n",
    "            vectors[index]['terms'][term] += 1\n",
    "        else:\n",
    "            vectors[index]['terms'][term] = 1\n",
    "    \n",
    "    vectors[index]['category'] = data['category']"
   ]
  },
  {
   "cell_type": "code",
   "execution_count": 37,
   "metadata": {
    "ExecuteTime": {
     "end_time": "2020-05-16T10:08:50.995817Z",
     "start_time": "2020-05-16T10:08:50.985326Z"
    }
   },
   "outputs": [],
   "source": [
    "def cosine_similarity(q, v):\n",
    "    cosine_similarity_value = 0 \n",
    "    \n",
    "    numerator = 0\n",
    "    denominator = 1\n",
    "    \n",
    "    for term in q:\n",
    "        if term in v:\n",
    "            numerator += q[term] * v[ter]\n",
    "\n",
    "def KNN(query_info, k = 1):\n",
    "    \n",
    "    query_terms = get_doc_terms(query_info)\n",
    "    for term in query_terms:\n",
    "        if term in query:\n",
    "            query[term] += 1\n",
    "        else:\n",
    "            query[term] = 1\n",
    "    \n",
    "    "
   ]
  }
 ],
 "metadata": {
  "kernelspec": {
   "display_name": "Python 3",
   "language": "python",
   "name": "python3"
  },
  "language_info": {
   "codemirror_mode": {
    "name": "ipython",
    "version": 3
   },
   "file_extension": ".py",
   "mimetype": "text/x-python",
   "name": "python",
   "nbconvert_exporter": "python",
   "pygments_lexer": "ipython3",
   "version": "3.6.9"
  }
 },
 "nbformat": 4,
 "nbformat_minor": 2
}

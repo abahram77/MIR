{
 "cells": [
  {
   "cell_type": "code",
   "execution_count": 75,
   "metadata": {
    "ExecuteTime": {
     "end_time": "2020-05-20T18:08:36.214265Z",
     "start_time": "2020-05-20T18:08:36.205495Z"
    }
   },
   "outputs": [],
   "source": [
    "import json\n",
    "from math import sqrt"
   ]
  },
  {
   "cell_type": "markdown",
   "metadata": {
    "ExecuteTime": {
     "end_time": "2020-05-20T18:08:37.624117Z",
     "start_time": "2020-05-20T18:08:37.604856Z"
    }
   },
   "source": [
    "# Reading Train Data"
   ]
  },
  {
   "cell_type": "code",
   "execution_count": 76,
   "metadata": {
    "ExecuteTime": {
     "end_time": "2020-05-20T18:08:36.933270Z",
     "start_time": "2020-05-20T18:08:36.803560Z"
    }
   },
   "outputs": [],
   "source": [
    "with open('./data/train.json') as d:\n",
    "    json_data = json.load(d)"
   ]
  },
  {
   "cell_type": "code",
   "execution_count": 78,
   "metadata": {
    "ExecuteTime": {
     "end_time": "2020-05-20T18:08:38.305911Z",
     "start_time": "2020-05-20T18:08:38.288975Z"
    }
   },
   "outputs": [],
   "source": [
    "def get_doc_terms(doc_info):\n",
    "    body_terms = data['body'].split()\n",
    "    title_terms = data['title'].split()\n",
    "    all_terms = body_terms + title_terms\n",
    "    return all_terms"
   ]
  },
  {
   "cell_type": "code",
   "execution_count": 79,
   "metadata": {
    "ExecuteTime": {
     "end_time": "2020-05-20T18:08:39.402954Z",
     "start_time": "2020-05-20T18:08:38.902891Z"
    }
   },
   "outputs": [],
   "source": [
    "vectors = {}\n",
    "query = {}\n",
    "\n",
    "for index, data in enumerate(json_data):\n",
    "\n",
    "    index = str(index)\n",
    "    vectors[index] = {\n",
    "        'terms': {},\n",
    "        'category': 0\n",
    "    }\n",
    "    \n",
    "    all_terms = get_doc_terms(data)\n",
    "    \n",
    "    for term in all_terms:\n",
    "        if term in vectors[index]['terms']:\n",
    "            vectors[index]['terms'][term] += 1\n",
    "        else:\n",
    "            vectors[index]['terms'][term] = 1\n",
    "    \n",
    "    vectors[index]['category'] = data['category']"
   ]
  },
  {
   "cell_type": "markdown",
   "metadata": {},
   "source": [
    "# KNN\n",
    "\n",
    "We should calculate euclidean distance nd cosine similarity for each document with respect to query. then return top k of them.\n",
    "\n",
    "## Cosine Similarity\n",
    "\n",
    " consine = a.b / |a|.|b|"
   ]
  },
  {
   "cell_type": "code",
   "execution_count": 8,
   "metadata": {
    "ExecuteTime": {
     "end_time": "2020-05-18T10:56:44.036266Z",
     "start_time": "2020-05-18T10:56:43.955648Z"
    }
   },
   "outputs": [],
   "source": [
    "def cosine_similarity(q, v):\n",
    "    cosine_similarity_value = 0 \n",
    "    numerator = 0\n",
    "    \n",
    "    for term in q:\n",
    "        if term in v:\n",
    "            numerator += q[term] * v[term]\n",
    "\n",
    "    q_size = 0    \n",
    "    for term in q:\n",
    "        q_size += q[term] * q[term]\n",
    "    q_size = sqrt(q_size)\n",
    "    \n",
    "    v_size = 0\n",
    "    for term in v:\n",
    "        v_size += v[term] * v[term]\n",
    "    v_size = sqrt(v_size)\n",
    "    \n",
    "    return numerator / (v_size * q_size)\n",
    "\n",
    "def euclidean_distance(q, v):\n",
    "    distance = 0\n",
    "    \n",
    "    for term in q:\n",
    "        if term in v:\n",
    "            distance += (v[term] - q[term]) ** 2\n",
    "        else:\n",
    "            distance += q[term] ** 2\n",
    "    \n",
    "    for term in v:\n",
    "        if term not in q:\n",
    "            distance += v[term] ** 2\n",
    "    \n",
    "    return sqrt(distance)\n",
    "\n",
    "    \n",
    "def KNN(query_info, k = 1):\n",
    "    query_terms = get_doc_terms(query_info)\n",
    "    \n",
    "    for term in query_terms:\n",
    "        if term in query:\n",
    "            query[term] += 1\n",
    "        else:\n",
    "            query[term] = 1\n",
    "    \n",
    "    scores = {\n",
    "        'consine': {},\n",
    "        'euclidean': {}\n",
    "    }\n",
    "    for doc_id in vectors:\n",
    "        doc_id = str(doc_id)\n",
    "        scores['consine'][doc_id] = consine_similarity(query_terms, vectors[doc_id][terms])\n",
    "        scores['euclidean'][doc_id] = euclidean_distance(query_terms, vectors[doc_id][terms])\n",
    "        \n",
    "#     return scores"
   ]
  },
  {
   "cell_type": "markdown",
   "metadata": {
    "ExecuteTime": {
     "end_time": "2020-05-16T11:51:05.892180Z",
     "start_time": "2020-05-16T11:51:05.884485Z"
    }
   },
   "source": [
    "# Naive Bayes\n",
    "\n"
   ]
  },
  {
   "cell_type": "code",
   "execution_count": 69,
   "metadata": {
    "ExecuteTime": {
     "end_time": "2020-05-18T12:11:05.669404Z",
     "start_time": "2020-05-18T12:11:05.111375Z"
    }
   },
   "outputs": [],
   "source": [
    "words_occur_class = {} #Occurance of each word in each class\n",
    "\n",
    "def get_word_occur_class(category_no = 4):\n",
    "    for doc_id in vectors:\n",
    "        category_id = str(vectors[doc_id]['category'])\n",
    "        terms = vectors[doc_id]['terms']\n",
    "        \n",
    "        for term in terms:    \n",
    "            if term not in words_occur_class:\n",
    "                words_occur_class[term] = {}\n",
    "                \n",
    "                for i in range(1, category_no + 1):\n",
    "                    words_occur_class[term][str(i)] = 0\n",
    "            \n",
    "            words_occur_class[term][category_id] += terms[term]            \n",
    "                \n",
    "get_word_occur_class()\n",
    "\n",
    "\n",
    "def get_category_count(category_no = 4):\n",
    "    category_count = {}\n",
    "    \n",
    "    for i in range(1, category_no + 1):\n",
    "        category_count[str(i)] = 0\n",
    "    \n",
    "    for doc_id in vectors:\n",
    "        category_id = str(vectors[doc_id]['category'])\n",
    "        category_count[category_id] += 1\n",
    "    \n",
    "    return category_count\n",
    "\n",
    "def naive_bayes_training(category_no=4):\n",
    "    N = len(json_data)\n",
    "    category_count = get_category_count()\n",
    "    "
   ]
  },
  {
   "cell_type": "code",
   "execution_count": 70,
   "metadata": {
    "ExecuteTime": {
     "end_time": "2020-05-18T12:11:06.639068Z",
     "start_time": "2020-05-18T12:11:06.545812Z"
    }
   },
   "outputs": [],
   "source": []
  },
  {
   "cell_type": "code",
   "execution_count": 71,
   "metadata": {
    "ExecuteTime": {
     "end_time": "2020-05-18T12:11:23.357769Z",
     "start_time": "2020-05-18T12:11:23.318802Z"
    }
   },
   "outputs": [
    {
     "data": {
      "text/plain": [
       "{'1': 6000, '2': 6000, '3': 6000, '4': 6000}"
      ]
     },
     "execution_count": 71,
     "metadata": {},
     "output_type": "execute_result"
    }
   ],
   "source": []
  }
 ],
 "metadata": {
  "kernelspec": {
   "display_name": "Python 3",
   "language": "python",
   "name": "python3"
  },
  "language_info": {
   "codemirror_mode": {
    "name": "ipython",
    "version": 3
   },
   "file_extension": ".py",
   "mimetype": "text/x-python",
   "name": "python",
   "nbconvert_exporter": "python",
   "pygments_lexer": "ipython3",
   "version": "3.6.9"
  }
 },
 "nbformat": 4,
 "nbformat_minor": 2
}

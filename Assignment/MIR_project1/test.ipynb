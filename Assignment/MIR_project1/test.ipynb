{
 "cells": [
  {
   "cell_type": "code",
   "execution_count": 7,
   "metadata": {},
   "outputs": [],
   "source": [
    "from hazm import *"
   ]
  },
  {
   "cell_type": "code",
   "execution_count": 13,
   "metadata": {},
   "outputs": [],
   "source": [
    "import os"
   ]
  },
  {
   "cell_type": "code",
   "execution_count": 27,
   "metadata": {},
   "outputs": [],
   "source": [
    "def get_stopwords(directory):\n",
    "    stopwords = []\n",
    "    for filename in os.listdir(directory):\n",
    "        with open(os.path.join(directory, filename), 'r') as f:\n",
    "            for stopword in f.read().splitlines():\n",
    "                if stopword not in stopwords:\n",
    "                    stopwords.append(stopword)\n",
    "    return stopwords        "
   ]
  },
  {
   "cell_type": "code",
   "execution_count": 31,
   "metadata": {},
   "outputs": [],
   "source": [
    "def prepare_text(raw_text):\n",
    "    prepared_text = []\n",
    "    normalizer = Normalizer()\n",
    "    normalized_text = normalizer.normalize(raw_text)\n",
    "    tokenized_text = word_tokenize(normalized_text)\n",
    "    stopwords = get_stopwords('stopwords')\n",
    "    stemmer = Stemmer()\n",
    "    \n",
    "    for token in tokenized_text:\n",
    "        if token not in stopwords:\n",
    "            stemmed_text = stemmer.stem(token)\n",
    "            if stemmed_text != \"\":\n",
    "                prepared_text.append(stemmed_text)\n",
    "\n",
    "    return prepared_text"
   ]
  },
  {
   "cell_type": "code",
   "execution_count": 1,
   "metadata": {},
   "outputs": [],
   "source": [
    "from xml.dom.minidom import parse"
   ]
  },
  {
   "cell_type": "code",
   "execution_count": 2,
   "metadata": {},
   "outputs": [],
   "source": [
    "# Reading Data (XML file) and store it in dom variable\n",
    "dom = parse('project1_data/data/Persian.xml')"
   ]
  },
  {
   "cell_type": "code",
   "execution_count": 3,
   "metadata": {},
   "outputs": [],
   "source": [
    "def get_title(raw_title):\n",
    "    title = raw_title[0].childNodes[0].data\n",
    "    return title"
   ]
  },
  {
   "cell_type": "code",
   "execution_count": 4,
   "metadata": {},
   "outputs": [],
   "source": [
    "def get_text(raw_text):\n",
    "    text = raw_text[0].childNodes[0].data\n",
    "    return text"
   ]
  },
  {
   "cell_type": "code",
   "execution_count": 5,
   "metadata": {},
   "outputs": [],
   "source": [
    "def get_id(raw_id):\n",
    "    doc_id = raw_id[0].childNodes[0].data\n",
    "    return doc_id"
   ]
  },
  {
   "cell_type": "code",
   "execution_count": 32,
   "metadata": {},
   "outputs": [
    {
     "name": "stdout",
     "output_type": "stream",
     "text": [
      "['باز', 'فکر']\n",
      "['شهرس', 'مهاباد']\n",
      "['ویکی\\u200cپدیا', 'چرا', 'حساب', 'بساز']\n",
      "['دریاکنار', 'رک']\n",
      "['اس', 'بویره']\n",
      "['تلمس']\n",
      "['اس', 'ادرار']\n",
      "['تونس']\n",
      "['آفریقا', 'شمال']\n",
      "['لیب']\n",
      "['دریا', 'مدیترانه']\n",
      "['لاذقیه']\n",
      "['اس', 'درعا']\n",
      "['مرد', 'کرد']\n",
      "['روزنامه', 'کرد']\n",
      "['تیروژ']\n",
      "['چیچس']\n",
      "['کیخسرو']\n",
      "['اس', 'بورگاس']\n",
      "['مکتشف', 'جه']\n",
      "['جیمز', 'کوک']\n",
      "['زوارتنوتس', 'تاریخ']\n",
      "['فرودگاه', 'بین\\u200cالملل', 'زوارتنوتس']\n",
      "['درا', 'ابهام\\u200cزدا']\n",
      "['درا', 'واحد', 'پول']\n",
      "['اوگار']\n",
      "['ولا', 'بادغیس']\n",
      "['ولا', 'بغل']\n",
      "['ولا', 'بلخ']\n",
      "['ولا', 'پرو']\n",
      "['ولا', 'بام']\n",
      "['ولا', 'هر']\n",
      "['ولا', 'وردک']\n",
      "['اس', 'ننگرهار']\n",
      "['خرید', 'لوئیزیانا']\n",
      "['محمد', 'تق', 'بهار']\n",
      "['اما', 'خمین']\n",
      "['انقلاب', '۱۳۵۷', 'ایر']\n",
      "['انقلاب', 'اسلام']\n",
      "['انقلاب', 'اسلام', 'ابهام\\u200cزدا']\n",
      "['ایال', 'متحده', 'آمریکا']\n",
      "['غزل']\n",
      "['موزائیک']\n",
      "['کابوک']\n",
      "['فرانسه']\n",
      "['اتحادیه', 'اروپا']\n",
      "['ک', 'ابهام\\u200cزدا']\n",
      "['سرود', 'مارس']\n",
      "['سرود', 'مل', 'فرانسه']\n",
      "['روژه', 'دو', 'لیل']\n",
      "['موزیلا']\n",
      "['عدد', 'طبیع']\n",
      "['طول', 'موج']\n",
      "['تخ', 'جمشید']\n",
      "['نوروز']\n",
      "['استاندارد']\n",
      "['ابوبکر']\n",
      "['گاه\\u200cشمار', 'در', 'ایر', 'باس']\n",
      "['خاورمیانه']\n",
      "['الگو', 'رده']\n",
      "['فایرفاکس']\n",
      "['رآکتور', 'هسته']\n",
      "['گو', 'همدان']\n",
      "['الیگودرز']\n",
      "['اخترفیزیک']\n",
      "['موسیق', 'سنت', 'ایران']\n",
      "['اردن']\n",
      "['عجلون']\n",
      "['ا']\n",
      "['سه\\u200cتار']\n",
      "['جر']\n",
      "['عقبه']\n",
      "['اسرائیل']\n",
      "['آلبان']\n",
      "['اس', 'بر']\n",
      "['اس', 'بولچیزه']\n",
      "['ناحیه', 'دلوینه']\n",
      "['ناحیه', 'دوول']\n",
      "['اس', 'دیبر']\n",
      "['اس', 'دراج']\n",
      "['الباس']\n",
      "['ناحیه', 'فیر']\n",
      "['ناحیه', 'گیروکاس']\n",
      "['ناحیه', 'گرام']\n",
      "['ناحیه', 'هاس']\n",
      "['اس', 'کاوایه']\n",
      "['ناحیه', 'کولونیه']\n",
      "['ناحیه', 'کورچه']\n",
      "['اس', 'کرویه']\n",
      "['اس', 'کوچووه']\n",
      "['ناحیه', 'کوکس']\n",
      "['ناحیه', 'لژه']\n",
      "['ناحیه', 'لیبراژد']\n",
      "['ناحیه', 'لوشنیه']\n",
      "['ناحیه', 'میردیته']\n",
      "['اس', 'مالسی-ا-ماده']\n",
      "['ناحیه', 'مالاکاس']\n",
      "['ناحیه', 'پرم']\n",
      "['اس']\n",
      "['ناحیه', 'پوگرادتس']\n"
     ]
    }
   ],
   "source": [
    "pages = dom.getElementsByTagName('page')\n",
    "for page in pages[:100]:\n",
    "    title = get_title(page.getElementsByTagName('title'))\n",
    "    text = get_text(page.getElementsByTagName('text'))\n",
    "    doc_id = get_id(page.getElementsByTagName('id'))\n",
    "    print(prepare_text(title))"
   ]
  }
 ],
 "metadata": {
  "kernelspec": {
   "display_name": "Python 3",
   "language": "python",
   "name": "python3"
  },
  "language_info": {
   "codemirror_mode": {
    "name": "ipython",
    "version": 3
   },
   "file_extension": ".py",
   "mimetype": "text/x-python",
   "name": "python",
   "nbconvert_exporter": "python",
   "pygments_lexer": "ipython3",
   "version": "3.6.8"
  }
 },
 "nbformat": 4,
 "nbformat_minor": 2
}

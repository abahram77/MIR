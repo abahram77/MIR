{
 "cells": [
  {
   "cell_type": "markdown",
   "metadata": {},
   "source": [
    "# Crawler"
   ]
  },
  {
   "cell_type": "code",
   "execution_count": 1,
   "metadata": {
    "ExecuteTime": {
     "end_time": "2020-06-03T13:35:27.183677Z",
     "start_time": "2020-06-03T13:35:26.837595Z"
    }
   },
   "outputs": [],
   "source": [
    "import scrapy"
   ]
  },
  {
   "cell_type": "code",
   "execution_count": 2,
   "metadata": {
    "ExecuteTime": {
     "end_time": "2020-06-03T13:35:33.995109Z",
     "start_time": "2020-06-03T13:35:33.962554Z"
    }
   },
   "outputs": [
    {
     "data": {
      "text/plain": [
       "['Field',\n",
       " 'FormRequest',\n",
       " 'Item',\n",
       " 'Request',\n",
       " 'Selector',\n",
       " 'Spider',\n",
       " '__all__',\n",
       " '__builtins__',\n",
       " '__cached__',\n",
       " '__doc__',\n",
       " '__file__',\n",
       " '__loader__',\n",
       " '__name__',\n",
       " '__package__',\n",
       " '__path__',\n",
       " '__spec__',\n",
       " '__version__',\n",
       " '_txv',\n",
       " 'exceptions',\n",
       " 'http',\n",
       " 'item',\n",
       " 'link',\n",
       " 'linkextractors',\n",
       " 'selector',\n",
       " 'signals',\n",
       " 'spiders',\n",
       " 'twisted_version',\n",
       " 'utils',\n",
       " 'version_info']"
      ]
     },
     "execution_count": 2,
     "metadata": {},
     "output_type": "execute_result"
    }
   ],
   "source": [
    "dir(scrapy)"
   ]
  },
  {
   "cell_type": "code",
   "execution_count": 3,
   "metadata": {
    "ExecuteTime": {
     "end_time": "2020-06-03T13:35:56.659260Z",
     "start_time": "2020-06-03T13:35:56.648766Z"
    }
   },
   "outputs": [
    {
     "data": {
      "text/plain": [
       "['CSVFeedSpider',\n",
       " 'CrawlSpider',\n",
       " 'Request',\n",
       " 'Rule',\n",
       " 'SitemapSpider',\n",
       " 'Spider',\n",
       " 'XMLFeedSpider',\n",
       " '__builtins__',\n",
       " '__cached__',\n",
       " '__doc__',\n",
       " '__file__',\n",
       " '__loader__',\n",
       " '__name__',\n",
       " '__package__',\n",
       " '__path__',\n",
       " '__spec__',\n",
       " 'crawl',\n",
       " 'feed',\n",
       " 'logging',\n",
       " 'method_is_overridden',\n",
       " 'object_ref',\n",
       " 'signals',\n",
       " 'sitemap',\n",
       " 'url_is_from_spider',\n",
       " 'warnings']"
      ]
     },
     "execution_count": 3,
     "metadata": {},
     "output_type": "execute_result"
    }
   ],
   "source": [
    "dir(scrapy.spiders)"
   ]
  },
  {
   "cell_type": "code",
   "execution_count": 1,
   "metadata": {
    "ExecuteTime": {
     "end_time": "2020-06-16T09:21:44.928773Z",
     "start_time": "2020-06-16T09:21:44.920533Z"
    }
   },
   "outputs": [],
   "source": [
    "start_urls = [\n",
    "    'https://www.researchgate.net/publication/328230984_BERT_Pre-training_of_Deep_Bidirectional_Transformers_for_Language_Understanding',\n",
    "    'https://www.researchgate.net/publication/323694313_The_Lottery_Ticket_Hypothesis_Training_Pruned_Neural_Networks',\n",
    "    'https://www.researchgate.net/publication/317558625_Attention_Is_All_You_Need'\n",
    "]\n",
    "\n",
    "limit = 2000"
   ]
  },
  {
   "cell_type": "code",
   "execution_count": null,
   "metadata": {},
   "outputs": [],
   "source": [
    "class ResearchgateSpider(scrapy.Spider):\n",
    "    name = 'researchgate'\n",
    "    \n",
    "    def __init__(self, start_urls):\n",
    "        self.start_urls = start_urls\n",
    "    \n",
    "    def parse(self, response):\n",
    "        for article_info in response.css('body'):\n",
    "            yield {\n",
    "                'author': article_info.xpath('span/small/text()').get(),\n",
    "                'text': article_info.css('span.text::text').get(),\n",
    "            }\n",
    "\n",
    "        next_page = response.css('li.next a::attr(\"href\")').get()\n",
    "        if next_page is not None:\n",
    "            yield response.follow(next_page, self.parse)\n",
    "\n",
    "            \n",
    "start_urls = [\n",
    "    'https://www.researchgate.net/publication/328230984_BERT_Pre-training_of_Deep_Bidirectional_Transformers_for_Language_Understanding',\n",
    "    'https://www.researchgate.net/publication/323694313_The_Lottery_Ticket_Hypothesis_Training_Pruned_Neural_Networks',\n",
    "    'https://www.researchgate.net/publication/317558625_Attention_Is_All_You_Need'\n",
    "]"
   ]
  }
 ],
 "metadata": {
  "kernelspec": {
   "display_name": "Python 3",
   "language": "python",
   "name": "python3"
  },
  "language_info": {
   "codemirror_mode": {
    "name": "ipython",
    "version": 3
   },
   "file_extension": ".py",
   "mimetype": "text/x-python",
   "name": "python",
   "nbconvert_exporter": "python",
   "pygments_lexer": "ipython3",
   "version": "3.6.9"
  }
 },
 "nbformat": 4,
 "nbformat_minor": 2
}

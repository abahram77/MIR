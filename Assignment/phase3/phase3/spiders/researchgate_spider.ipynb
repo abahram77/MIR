{
 "cells": [
  {
   "cell_type": "code",
   "execution_count": 5,
   "metadata": {
    "ExecuteTime": {
     "end_time": "2020-06-16T11:40:08.284822Z",
     "start_time": "2020-06-16T11:40:08.280355Z"
    }
   },
   "outputs": [],
   "source": [
    "from scrapy import spiders"
   ]
  },
  {
   "cell_type": "code",
   "execution_count": 6,
   "metadata": {
    "ExecuteTime": {
     "end_time": "2020-06-16T11:40:18.275210Z",
     "start_time": "2020-06-16T11:40:18.242026Z"
    }
   },
   "outputs": [
    {
     "ename": "TypeError",
     "evalue": "module.__init__() takes at most 2 arguments (3 given)",
     "output_type": "error",
     "traceback": [
      "\u001b[0;31m---------------------------------------------------------------------------\u001b[0m",
      "\u001b[0;31mTypeError\u001b[0m                                 Traceback (most recent call last)",
      "\u001b[0;32m<ipython-input-6-824c6deb434f>\u001b[0m in \u001b[0;36m<module>\u001b[0;34m()\u001b[0m\n\u001b[0;32m----> 1\u001b[0;31m \u001b[0;32mclass\u001b[0m \u001b[0mResearchgateSpider\u001b[0m\u001b[0;34m(\u001b[0m\u001b[0mspiders\u001b[0m\u001b[0;34m)\u001b[0m\u001b[0;34m:\u001b[0m\u001b[0;34m\u001b[0m\u001b[0;34m\u001b[0m\u001b[0m\n\u001b[0m\u001b[1;32m      2\u001b[0m     \u001b[0mname\u001b[0m \u001b[0;34m=\u001b[0m \u001b[0;34m'researchgate'\u001b[0m\u001b[0;34m\u001b[0m\u001b[0;34m\u001b[0m\u001b[0m\n\u001b[1;32m      3\u001b[0m \u001b[0;34m\u001b[0m\u001b[0m\n\u001b[1;32m      4\u001b[0m     \u001b[0mTITLE\u001b[0m \u001b[0;34m=\u001b[0m \u001b[0;34m'h1.publication-details__title::text'\u001b[0m\u001b[0;34m\u001b[0m\u001b[0;34m\u001b[0m\u001b[0m\n\u001b[1;32m      5\u001b[0m     \u001b[0mAUTHORS\u001b[0m \u001b[0;34m=\u001b[0m \u001b[0;34m'li.publication-author-list__item'\u001b[0m \u001b[0;31m#return array it should be wrapped authors.css('a::text).get\u001b[0m\u001b[0;34m\u001b[0m\u001b[0;34m\u001b[0m\u001b[0m\n",
      "\u001b[0;31mTypeError\u001b[0m: module.__init__() takes at most 2 arguments (3 given)"
     ]
    }
   ],
   "source": [
    "class ResearchgateSpider(spiders):\n",
    "    name = 'researchgate'\n",
    "    \n",
    "    TYPE = \"//span[@data-testid='research-meta-type']/text()\" #DONE\n",
    "    TITLE = \"//h1/text()\" #DONE\n",
    "    ABSTRACT = \"//div[@itemprop='description']/text()\" #DONE\n",
    "    \n",
    "    AUTHORS = 'li.publication-author-list__item' #return array it should be wrapped authors.css('a::text).get\n",
    "    DATE = \"//div[@class='research-detail-header-section__metadata']/div/ul/li/text()\"\n",
    "'\n",
    "    REFERENCES = ''\n",
    "    \n",
    "    def __init__(self, start_urls, maximum_no=2000):\n",
    "        self.start_urls = start_urls\n",
    "        self.crawled = start_urls.copy()\n",
    "        self.maximum_no = maximum_no\n",
    "    \n",
    "    def start_requests(self):\n",
    "        urls = self.start_urls\n",
    "        for url in urls:\n",
    "            yield scrapy.Request(url=url, callback=self.parse)\n",
    "            \n",
    "    def parse(self, response):\n",
    "        url = response.url\n",
    "        id = url.split('/')[-1].split('_')[0]\n",
    "        \n",
    "        \n",
    "# START_URLS = [\n",
    "#     'https://www.researchgate.net/publication/328230984_BERT_Pre-training_of_Deep_Bidirectional_Transformers_for_Language_Understanding',\n",
    "#     'https://www.researchgate.net/publication/323694313_The_Lottery_Ticket_Hypothesis_Training_Pruned_Neural_Networks/references',\n",
    "#     'https://www.researchgate.net/publication/317558625_Attention_Is_All_You_Need'   \n",
    "# ]"
   ]
  }
 ],
 "metadata": {
  "kernelspec": {
   "display_name": "Python 3",
   "language": "python",
   "name": "python3"
  },
  "language_info": {
   "codemirror_mode": {
    "name": "ipython",
    "version": 3
   },
   "file_extension": ".py",
   "mimetype": "text/x-python",
   "name": "python",
   "nbconvert_exporter": "python",
   "pygments_lexer": "ipython3",
   "version": "3.6.9"
  }
 },
 "nbformat": 4,
 "nbformat_minor": 2
}
